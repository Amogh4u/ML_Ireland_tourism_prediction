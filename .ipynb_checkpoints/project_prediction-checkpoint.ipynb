{
 "cells": [
  {
   "cell_type": "code",
   "execution_count": null,
   "id": "43069aa9",
   "metadata": {},
   "outputs": [],
   "source": [
    "import pandas as pd\n",
    "import matplotlib.pyplot as plt\n",
    "import matplotlib\n",
    "import numpy as np\n",
    "from sklearn.preprocessing import PolynomialFeatures\n",
    "from sklearn import linear_model\n",
    "from sklearn.pipeline import make_pipeline\n",
    "from sklearn.model_selection import cross_val_score\n",
    "import re"
   ]
  },
  {
   "cell_type": "code",
   "execution_count": null,
   "id": "1166e906",
   "metadata": {},
   "outputs": [],
   "source": [
    "available_ip = pd.read_csv('available_input.csv')\n",
    "available_ip = available_ip.drop(available_ip.columns[0], axis=1)\n",
    "available_op = pd.read_csv('available_output.csv')\n",
    "available_op = available_op.drop(available_op.columns[0], axis = 1)\n",
    "available_op"
   ]
  },
  {
   "cell_type": "code",
   "execution_count": null,
   "id": "cd1bbf41",
   "metadata": {},
   "outputs": [],
   "source": [
    "c_range = [ 1, 10, 100, 1000, 10000]\n",
    "for C in c_range:\n",
    "    lasso_model = linear_model.Lasso(alpha = 1/(2*C))\n",
    "    lasso_model.fit(available_ip, available_op)\n",
    "    print(\"C=\", C)\n",
    "    print(lasso_model.coef_)\n",
    "    print(lasso_model.intercept_)"
   ]
  },
  {
   "cell_type": "code",
   "execution_count": null,
   "id": "831c8bde",
   "metadata": {},
   "outputs": [],
   "source": []
  }
 ],
 "metadata": {
  "kernelspec": {
   "display_name": "Python 3 (ipykernel)",
   "language": "python",
   "name": "python3"
  },
  "language_info": {
   "codemirror_mode": {
    "name": "ipython",
    "version": 3
   },
   "file_extension": ".py",
   "mimetype": "text/x-python",
   "name": "python",
   "nbconvert_exporter": "python",
   "pygments_lexer": "ipython3",
   "version": "3.9.13"
  }
 },
 "nbformat": 4,
 "nbformat_minor": 5
}

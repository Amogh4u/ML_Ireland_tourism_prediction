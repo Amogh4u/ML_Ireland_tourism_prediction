{
 "cells": [
  {
   "cell_type": "code",
   "execution_count": 5,
   "id": "74f369ac",
   "metadata": {},
   "outputs": [],
   "source": [
    "import pandas as pd\n",
    "file_names = [\"GoogleTrends/France_searching_Ireland\"]\n",
    "for f in file_names:    \n",
    "    df = pd.read_csv(f+'.csv')\n",
    "    df.Date = pd.to_datetime(df.Date, dayfirst=True)\n",
    "    df['year']= df['Date'].dt.year\n",
    "    df['month']= df['Date'].dt.month\n",
    "    years = [2017, 2018, 2019, 2020, 2021, 2022]\n",
    "    months = [1, 2, 3, 4, 5, 6, 7, 8, 9, 10, 11, 12]\n",
    "    new_arr = []\n",
    "    for y in years:\n",
    "        filter_by_year = df[(df.year == y)]\n",
    "        for m in months:\n",
    "            filter_by_month = filter_by_year[(filter_by_year.month == m)]\n",
    "            count = 0;\n",
    "            for i, j in filter_by_month.iterrows():\n",
    "                count = count + j[\"Count\"]\n",
    "            new_arr.append({'Year': y, 'Month': m, 'Count':count})\n",
    "    new_df = pd.DataFrame(new_arr)\n",
    "    name = f + \"by_month.csv\"\n",
    "    new_df.to_csv(name)"
   ]
  },
  {
   "cell_type": "code",
   "execution_count": null,
   "id": "0f862a21",
   "metadata": {},
   "outputs": [],
   "source": []
  }
 ],
 "metadata": {
  "kernelspec": {
   "display_name": "Python 3 (ipykernel)",
   "language": "python",
   "name": "python3"
  },
  "language_info": {
   "codemirror_mode": {
    "name": "ipython",
    "version": 3
   },
   "file_extension": ".py",
   "mimetype": "text/x-python",
   "name": "python",
   "nbconvert_exporter": "python",
   "pygments_lexer": "ipython3",
   "version": "3.9.13"
  }
 },
 "nbformat": 4,
 "nbformat_minor": 5
}

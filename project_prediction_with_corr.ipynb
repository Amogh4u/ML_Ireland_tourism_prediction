{
 "cells": [
  {
   "cell_type": "markdown",
   "id": "d15705e2",
   "metadata": {},
   "source": [
    "## Importing Libraries"
   ]
  },
  {
   "cell_type": "code",
   "execution_count": 113,
   "id": "31ff2bab",
   "metadata": {},
   "outputs": [],
   "source": [
    "import pandas as pd\n",
    "import matplotlib.pyplot as plt\n",
    "import matplotlib\n",
    "import numpy as np\n",
    "from sklearn.preprocessing import StandardScaler\n",
    "from sklearn.model_selection import cross_val_score\n",
    "from sklearn.model_selection import train_test_split\n",
    "from sklearn.metrics import mean_squared_error, mean_absolute_error, r2_score\n",
    "import re\n",
    "import random\n",
    "from sklearn.model_selection import KFold\n",
    "from sklearn.svm import SVR\n",
    " \n",
    "\n",
    "from sklearn.linear_model import LinearRegression, Lasso, Ridge\n",
    "from sklearn.tree import DecisionTreeRegressor \n",
    "from sklearn.ensemble import RandomForestRegressor, GradientBoostingRegressor\n",
    "from sklearn import tree\n",
    "from sklearn.neighbors import KNeighborsRegressor\n",
    "\n",
    "from sklearn.model_selection import RepeatedKFold, GridSearchCV, cross_val_score\n",
    "\n",
    "from sklearn.ensemble import BaggingRegressor, StackingRegressor, VotingRegressor\n",
    "\n",
    "from numpy import mean\n",
    "import scipy\n",
    "import numpy as np\n",
    "\n",
    "import warnings \n",
    "warnings.filterwarnings('ignore')"
   ]
  },
  {
   "cell_type": "code",
   "execution_count": 114,
   "id": "ff383a0e",
   "metadata": {},
   "outputs": [],
   "source": [
    "random.seed(111)"
   ]
  },
  {
   "cell_type": "markdown",
   "id": "ba3bfee6",
   "metadata": {},
   "source": [
    "# Reading Data"
   ]
  },
  {
   "cell_type": "code",
   "execution_count": 150,
   "id": "8117a00f",
   "metadata": {},
   "outputs": [
    {
     "data": {
      "text/plain": [
       "numpy.float64"
      ]
     },
     "execution_count": 150,
     "metadata": {},
     "output_type": "execute_result"
    }
   ],
   "source": [
    "available_ip = pd.read_csv('available_input_corr.csv')\n",
    "available_ip = available_ip.drop(available_ip.columns[0], axis=1)\n",
    "available_op = pd.read_csv('available_output_corr.csv')\n",
    "available_op = available_op.drop(available_op.columns[0], axis = 1)\n",
    "type(available_op.VALUE[0])"
   ]
  },
  {
   "cell_type": "markdown",
   "id": "0b6c8554",
   "metadata": {},
   "source": [
    "## Normalisation of data"
   ]
  },
  {
   "cell_type": "code",
   "execution_count": 116,
   "id": "d1a29dc8",
   "metadata": {},
   "outputs": [],
   "source": [
    "X_train, X_test, y_train, y_test = train_test_split(available_ip, available_op, test_size = 0.2, random_state = 111)\n",
    "\n",
    "scaler_feature = StandardScaler()\n",
    "scaler_label = StandardScaler()\n",
    "scaled_train_feature = scaler_feature.fit_transform(X_train)\n",
    "scaled_train_label = scaler_label.fit_transform(y_train)\n",
    "scaled_test_feature = scaler_feature.fit_transform(X_test)\n",
    "scaled_test_label = scaler_label.fit_transform(y_test)"
   ]
  },
  {
   "cell_type": "markdown",
   "id": "061ec099",
   "metadata": {},
   "source": [
    "## Applying Linear Regression to train the model"
   ]
  },
  {
   "cell_type": "code",
   "execution_count": 117,
   "id": "5076c8f0",
   "metadata": {},
   "outputs": [
    {
     "name": "stdout",
     "output_type": "stream",
     "text": [
      "Cross Validation Score for LR is: 0.7691589169731626\n"
     ]
    }
   ],
   "source": [
    "Linear_Regression_Model = LinearRegression()\n",
    "val_score = cross_val_score(Linear_Regression_Model, scaled_train_feature, scaled_train_label, cv = 5)\n",
    "print(f'Cross Validation Score for LR is: {np.array(val_score).mean()}')"
   ]
  },
  {
   "cell_type": "markdown",
   "id": "7eef5404",
   "metadata": {},
   "source": [
    "## Applying Support Vector Regression to train the model"
   ]
  },
  {
   "cell_type": "code",
   "execution_count": 168,
   "id": "5cfc9038",
   "metadata": {},
   "outputs": [
    {
     "name": "stdout",
     "output_type": "stream",
     "text": [
      "Cross Validation Score for SVR is: 0.6305169217488243 C =  0.1\n",
      "Cross Validation Score for SVR is: 0.7840734026283511 C =  0.2\n",
      "Cross Validation Score for SVR is: 0.8121127569070341 C =  0.3\n",
      "Cross Validation Score for SVR is: 0.8351067551651358 C =  1\n",
      "Cross Validation Score for SVR is: 0.8343633720001253 C =  2\n",
      "Cross Validation Score for SVR is: 0.8317321697292159 C =  3\n",
      "Cross Validation Score for SVR is: 0.8290552736070109 C =  4\n",
      "Cross Validation Score for SVR is: 0.8245624275795412 C =  5\n",
      "Cross Validation Score for SVR is: 0.8200322946260439 C =  6\n",
      "Cross Validation Score for SVR is: 0.8133847365445932 C =  7\n",
      "Cross Validation Score for SVR is: 0.807358750233187 C =  8\n",
      "Cross Validation Score for SVR is: 0.8037666635734311 C =  9\n",
      "Cross Validation Score for SVR is: 0.8041437674807274 C =  10\n",
      "Cross Validation Score for SVR is: 0.8025032424751315 C =  20\n",
      "Cross Validation Score for SVR is: 0.79425043968597 C =  40\n",
      "Cross Validation Score for SVR is: 0.787061150478364 C =  80\n"
     ]
    }
   ],
   "source": [
    "for c in [0.1, 0.2, 0.3, 1, 2, 3, 4, 5, 6, 7, 8, 9, 10, 20, 40, 80]:\n",
    "    SVR_Model = SVR(kernel='rbf', C = c)\n",
    "    val_score = cross_val_score(SVR_Model, scaled_train_feature, scaled_train_label, cv = 5)\n",
    "    print(f'Cross Validation Score for SVR is: {np.array(val_score).mean()}', \"C = \", c)"
   ]
  },
  {
   "cell_type": "markdown",
   "id": "7ee8f150",
   "metadata": {},
   "source": [
    "# Feature Importance Using extraTreeRegressor"
   ]
  },
  {
   "cell_type": "code",
   "execution_count": 123,
   "id": "dee31b07",
   "metadata": {},
   "outputs": [
    {
     "name": "stdout",
     "output_type": "stream",
     "text": [
      "[9.21506707e-02 1.02045226e-02 1.58861127e-02 1.51158774e-02\n",
      " 4.60310521e-04 1.59852082e-03 6.37341766e-04 1.19624620e-03\n",
      " 2.37780044e-03 8.73468132e-04 5.20569187e-04 2.19490820e-04\n",
      " 2.55300284e-04 5.42277875e-04 7.88267915e-04 1.42448263e-03\n",
      " 9.48327852e-04 7.65836509e-03 5.63872219e-03 1.30418298e-03\n",
      " 4.19778037e-05 3.83589685e-05 6.62708605e-04 3.21556107e-02\n",
      " 8.68250470e-04 9.50464264e-04 7.93184453e-01 1.22973178e-02]\n"
     ]
    },
    {
     "data": {
      "image/png": "[encoded data removed]",
      "text/plain": [
       "<Figure size 640x480 with 1 Axes>"
      ]
     },
     "metadata": {},
     "output_type": "display_data"
    }
   ],
   "source": [
    "from sklearn.ensemble import ExtraTreesRegressor\n",
    "import matplotlib.pyplot as plt\n",
    "model = ExtraTreesRegressor()\n",
    "model.fit(available_ip,available_op)\n",
    "print(model.feature_importances_) #use inbuilt class feature_importances of tree based classifiers\n",
    "#plot graph of feature importances for better visualization\n",
    "feat_importances = pd.Series(model.feature_importances_, index=available_ip.columns)\n",
    "feat_importances.nlargest(10).plot(kind='barh')\n",
    "plt.show()"
   ]
  },
  {
   "cell_type": "markdown",
   "id": "00ac6cac",
   "metadata": {},
   "source": [
    "# Feature Importance using Decision Tree"
   ]
  },
  {
   "cell_type": "code",
   "execution_count": 170,
   "id": "fce1a622",
   "metadata": {},
   "outputs": [
    {
     "name": "stdout",
     "output_type": "stream",
     "text": [
      "Cross Validation Score for Decision Tree is: 0.816061090543783\n"
     ]
    },
    {
     "data": {
      "image/png": "[encoded data removed]",
      "text/plain": [
       "<Figure size 640x480 with 1 Axes>"
      ]
     },
     "metadata": {},
     "output_type": "display_data"
    },
    {
     "name": "stdout",
     "output_type": "stream",
     "text": [
      "Fitting 3 folds for each of 80 candidates, totalling 240 fits\n",
      "[CV 1/3] END max_depth=1, max_features=auto, splitter=best;, score=-0.272 total time=   0.0s\n",
      "[CV 2/3] END max_depth=1, max_features=auto, splitter=best;, score=-0.294 total time=   0.0s\n",
      "[CV 3/3] END max_depth=1, max_features=auto, splitter=best;, score=-0.317 total time=   0.0s\n",
      "[CV 1/3] END max_depth=1, max_features=auto, splitter=random;, score=-0.272 total time=   0.0s\n",
      "[CV 2/3] END max_depth=1, max_features=auto, splitter=random;, score=-0.294 total time=   0.0s\n",
      "[CV 3/3] END max_depth=1, max_features=auto, splitter=random;, score=-0.317 total time=   0.0s\n",
      "[CV 1/3] END max_depth=1, max_features=log2, splitter=best;, score=-1.181 total time=   0.0s\n",
      "[CV 2/3] END max_depth=1, max_features=log2, splitter=best;, score=-0.875 total time=   0.0s\n",
      "[CV 3/3] END max_depth=1, max_features=log2, splitter=best;, score=-0.895 total time=   0.0s\n",
      "[CV 1/3] END max_depth=1, max_features=log2, splitter=random;, score=-0.272 total time=   0.0s\n",
      "[CV 2/3] END max_depth=1, max_features=log2, splitter=random;, score=-0.886 total time=   0.0s\n",
      "[CV 3/3] END max_depth=1, max_features=log2, splitter=random;, score=-0.906 total time=   0.0s\n",
      "[CV 1/3] END max_depth=1, max_features=sqrt, splitter=best;, score=-0.272 total time=   0.0s\n",
      "[CV 2/3] END max_depth=1, max_features=sqrt, splitter=best;, score=-0.878 total time=   0.0s\n",
      "[CV 3/3] END max_depth=1, max_features=sqrt, splitter=best;, score=-0.909 total time=   0.0s\n",
      "[CV 1/3] END max_depth=1, max_features=sqrt, splitter=random;, score=-0.272 total time=   0.0s\n",
      "[CV 2/3] END max_depth=1, max_features=sqrt, splitter=random;, score=-0.876 total time=   0.0s\n",
      "[CV 3/3] END max_depth=1, max_features=sqrt, splitter=random;, score=-0.899 total time=   0.0s\n",
      "[CV 1/3] END max_depth=1, max_features=None, splitter=best;, score=-0.272 total time=   0.0s\n",
      "[CV 2/3] END max_depth=1, max_features=None, splitter=best;, score=-0.294 total time=   0.0s\n",
      "[CV 3/3] END max_depth=1, max_features=None, splitter=best;, score=-0.317 total time=   0.0s\n",
      "[CV 1/3] END max_depth=1, max_features=None, splitter=random;, score=-0.272 total time=   0.0s\n",
      "[CV 2/3] END max_depth=1, max_features=None, splitter=random;, score=-0.294 total time=   0.0s\n",
      "[CV 3/3] END max_depth=1, max_features=None, splitter=random;, score=-0.317 total time=   0.0s\n",
      "[CV 1/3] END max_depth=2, max_features=auto, splitter=best;, score=-0.185 total time=   0.0s\n",
      "[CV 2/3] END max_depth=2, max_features=auto, splitter=best;, score=-0.226 total time=   0.0s\n",
      "[CV 3/3] END max_depth=2, max_features=auto, splitter=best;, score=-0.174 total time=   0.0s\n",
      "[CV 1/3] END max_depth=2, max_features=auto, splitter=random;, score=-0.218 total time=   0.0s\n",
      "[CV 2/3] END max_depth=2, max_features=auto, splitter=random;, score=-0.227 total time=   0.0s\n",
      "[CV 3/3] END max_depth=2, max_features=auto, splitter=random;, score=-0.174 total time=   0.0s\n",
      "[CV 1/3] END max_depth=2, max_features=log2, splitter=best;, score=-0.251 total time=   0.0s\n",
      "[CV 2/3] END max_depth=2, max_features=log2, splitter=best;, score=-0.870 total time=   0.0s\n",
      "[CV 3/3] END max_depth=2, max_features=log2, splitter=best;, score=-0.276 total time=   0.0s\n",
      "[CV 1/3] END max_depth=2, max_features=log2, splitter=random;, score=-1.161 total time=   0.0s\n",
      "[CV 2/3] END max_depth=2, max_features=log2, splitter=random;, score=-0.862 total time=   0.0s\n",
      "[CV 3/3] END max_depth=2, max_features=log2, splitter=random;, score=-0.300 total time=   0.0s\n",
      "[CV 1/3] END max_depth=2, max_features=sqrt, splitter=best;, score=-1.159 total time=   0.0s\n",
      "[CV 2/3] END max_depth=2, max_features=sqrt, splitter=best;, score=-0.872 total time=   0.0s\n",
      "[CV 3/3] END max_depth=2, max_features=sqrt, splitter=best;, score=-0.674 total time=   0.0s\n",
      "[CV 1/3] END max_depth=2, max_features=sqrt, splitter=random;, score=-0.268 total time=   0.0s\n",
      "[CV 2/3] END max_depth=2, max_features=sqrt, splitter=random;, score=-0.850 total time=   0.0s\n",
      "[CV 3/3] END max_depth=2, max_features=sqrt, splitter=random;, score=-0.305 total time=   0.0s\n",
      "[CV 1/3] END max_depth=2, max_features=None, splitter=best;, score=-0.185 total time=   0.0s\n",
      "[CV 2/3] END max_depth=2, max_features=None, splitter=best;, score=-0.226 total time=   0.0s\n",
      "[CV 3/3] END max_depth=2, max_features=None, splitter=best;, score=-0.174 total time=   0.0s\n",
      "[CV 1/3] END max_depth=2, max_features=None, splitter=random;, score=-0.262 total time=   0.0s\n",
      "[CV 2/3] END max_depth=2, max_features=None, splitter=random;, score=-0.204 total time=   0.0s\n",
      "[CV 3/3] END max_depth=2, max_features=None, splitter=random;, score=-0.202 total time=   0.0s\n",
      "[CV 1/3] END max_depth=3, max_features=auto, splitter=best;, score=-0.161 total time=   0.0s\n",
      "[CV 2/3] END max_depth=3, max_features=auto, splitter=best;, score=-0.224 total time=   0.0s\n",
      "[CV 3/3] END max_depth=3, max_features=auto, splitter=best;, score=-0.135 total time=   0.0s\n",
      "[CV 1/3] END max_depth=3, max_features=auto, splitter=random;, score=-0.159 total time=   0.0s\n",
      "[CV 2/3] END max_depth=3, max_features=auto, splitter=random;, score=-0.179 total time=   0.0s\n",
      "[CV 3/3] END max_depth=3, max_features=auto, splitter=random;, score=-0.139 total time=   0.0s\n",
      "[CV 1/3] END max_depth=3, max_features=log2, splitter=best;, score=-0.895 total time=   0.0s\n",
      "[CV 2/3] END max_depth=3, max_features=log2, splitter=best;, score=-0.281 total time=   0.0s\n",
      "[CV 3/3] END max_depth=3, max_features=log2, splitter=best;, score=-0.687 total time=   0.0s\n",
      "[CV 1/3] END max_depth=3, max_features=log2, splitter=random;, score=-0.267 total time=   0.0s\n",
      "[CV 2/3] END max_depth=3, max_features=log2, splitter=random;, score=-0.247 total time=   0.0s\n",
      "[CV 3/3] END max_depth=3, max_features=log2, splitter=random;, score=-0.872 total time=   0.0s\n",
      "[CV 1/3] END max_depth=3, max_features=sqrt, splitter=best;, score=-0.650 total time=   0.0s\n",
      "[CV 2/3] END max_depth=3, max_features=sqrt, splitter=best;, score=-0.837 total time=   0.0s\n",
      "[CV 3/3] END max_depth=3, max_features=sqrt, splitter=best;, score=-0.291 total time=   0.0s\n",
      "[CV 1/3] END max_depth=3, max_features=sqrt, splitter=random;, score=-1.070 total time=   0.0s\n",
      "[CV 2/3] END max_depth=3, max_features=sqrt, splitter=random;, score=-0.815 total time=   0.0s\n",
      "[CV 3/3] END max_depth=3, max_features=sqrt, splitter=random;, score=-0.305 total time=   0.0s\n",
      "[CV 1/3] END max_depth=3, max_features=None, splitter=best;, score=-0.161 total time=   0.0s\n",
      "[CV 2/3] END max_depth=3, max_features=None, splitter=best;, score=-0.224 total time=   0.0s\n",
      "[CV 3/3] END max_depth=3, max_features=None, splitter=best;, score=-0.135 total time=   0.0s\n",
      "[CV 1/3] END max_depth=3, max_features=None, splitter=random;, score=-0.159 total time=   0.0s\n",
      "[CV 2/3] END max_depth=3, max_features=None, splitter=random;, score=-0.181 total time=   0.0s\n",
      "[CV 3/3] END max_depth=3, max_features=None, splitter=random;, score=-0.127 total time=   0.0s\n",
      "[CV 1/3] END max_depth=4, max_features=auto, splitter=best;, score=-0.134 total time=   0.0s\n",
      "[CV 2/3] END max_depth=4, max_features=auto, splitter=best;, score=-0.229 total time=   0.0s\n",
      "[CV 3/3] END max_depth=4, max_features=auto, splitter=best;, score=-0.112 total time=   0.0s\n",
      "[CV 1/3] END max_depth=4, max_features=auto, splitter=random;, score=-0.148 total time=   0.0s\n",
      "[CV 2/3] END max_depth=4, max_features=auto, splitter=random;, score=-0.227 total time=   0.0s\n",
      "[CV 3/3] END max_depth=4, max_features=auto, splitter=random;, score=-0.113 total time=   0.0s\n",
      "[CV 1/3] END max_depth=4, max_features=log2, splitter=best;, score=-0.292 total time=   0.0s\n",
      "[CV 2/3] END max_depth=4, max_features=log2, splitter=best;, score=-0.530 total time=   0.0s\n",
      "[CV 3/3] END max_depth=4, max_features=log2, splitter=best;, score=-0.484 total time=   0.0s\n",
      "[CV 1/3] END max_depth=4, max_features=log2, splitter=random;, score=-0.792 total time=   0.0s\n",
      "[CV 2/3] END max_depth=4, max_features=log2, splitter=random;, score=-0.829 total time=   0.0s\n",
      "[CV 3/3] END max_depth=4, max_features=log2, splitter=random;, score=-0.172 total time=   0.0s\n",
      "[CV 1/3] END max_depth=4, max_features=sqrt, splitter=best;, score=-1.064 total time=   0.0s\n",
      "[CV 2/3] END max_depth=4, max_features=sqrt, splitter=best;, score=-0.261 total time=   0.0s\n",
      "[CV 3/3] END max_depth=4, max_features=sqrt, splitter=best;, score=-0.416 total time=   0.0s\n",
      "[CV 1/3] END max_depth=4, max_features=sqrt, splitter=random;, score=-1.123 total time=   0.0s\n",
      "[CV 2/3] END max_depth=4, max_features=sqrt, splitter=random;, score=-0.835 total time=   0.0s\n",
      "[CV 3/3] END max_depth=4, max_features=sqrt, splitter=random;, score=-0.300 total time=   0.0s\n",
      "[CV 1/3] END max_depth=4, max_features=None, splitter=best;, score=-0.134 total time=   0.0s\n",
      "[CV 2/3] END max_depth=4, max_features=None, splitter=best;, score=-0.229 total time=   0.0s\n",
      "[CV 3/3] END max_depth=4, max_features=None, splitter=best;, score=-0.112 total time=   0.0s\n",
      "[CV 1/3] END max_depth=4, max_features=None, splitter=random;, score=-0.145 total time=   0.0s\n",
      "[CV 2/3] END max_depth=4, max_features=None, splitter=random;, score=-0.213 total time=   0.0s\n",
      "[CV 3/3] END max_depth=4, max_features=None, splitter=random;, score=-0.119 total time=   0.0s\n",
      "[CV 1/3] END max_depth=5, max_features=auto, splitter=best;, score=-0.109 total time=   0.0s\n",
      "[CV 2/3] END max_depth=5, max_features=auto, splitter=best;, score=-0.230 total time=   0.0s\n",
      "[CV 3/3] END max_depth=5, max_features=auto, splitter=best;, score=-0.082 total time=   0.0s\n",
      "[CV 1/3] END max_depth=5, max_features=auto, splitter=random;, score=-0.122 total time=   0.0s\n",
      "[CV 2/3] END max_depth=5, max_features=auto, splitter=random;, score=-0.239 total time=   0.0s\n",
      "[CV 3/3] END max_depth=5, max_features=auto, splitter=random;, score=-0.100 total time=   0.0s\n",
      "[CV 1/3] END max_depth=5, max_features=log2, splitter=best;, score=-0.590 total time=   0.0s\n",
      "[CV 2/3] END max_depth=5, max_features=log2, splitter=best;, score=-0.246 total time=   0.0s\n",
      "[CV 3/3] END max_depth=5, max_features=log2, splitter=best;, score=-0.349 total time=   0.0s\n",
      "[CV 1/3] END max_depth=5, max_features=log2, splitter=random;, score=-1.060 total time=   0.0s\n",
      "[CV 2/3] END max_depth=5, max_features=log2, splitter=random;, score=-0.792 total time=   0.0s\n",
      "[CV 3/3] END max_depth=5, max_features=log2, splitter=random;, score=-0.493 total time=   0.0s\n",
      "[CV 1/3] END max_depth=5, max_features=sqrt, splitter=best;, score=-0.258 total time=   0.0s\n",
      "[CV 2/3] END max_depth=5, max_features=sqrt, splitter=best;, score=-0.494 total time=   0.0s\n",
      "[CV 3/3] END max_depth=5, max_features=sqrt, splitter=best;, score=-0.155 total time=   0.0s\n",
      "[CV 1/3] END max_depth=5, max_features=sqrt, splitter=random;, score=-0.262 total time=   0.0s\n",
      "[CV 2/3] END max_depth=5, max_features=sqrt, splitter=random;, score=-0.228 total time=   0.0s\n",
      "[CV 3/3] END max_depth=5, max_features=sqrt, splitter=random;, score=-0.254 total time=   0.0s\n",
      "[CV 1/3] END max_depth=5, max_features=None, splitter=best;, score=-0.109 total time=   0.0s\n",
      "[CV 2/3] END max_depth=5, max_features=None, splitter=best;, score=-0.230 total time=   0.0s\n",
      "[CV 3/3] END max_depth=5, max_features=None, splitter=best;, score=-0.082 total time=   0.0s\n",
      "[CV 1/3] END max_depth=5, max_features=None, splitter=random;, score=-0.162 total time=   0.0s\n",
      "[CV 2/3] END max_depth=5, max_features=None, splitter=random;, score=-0.225 total time=   0.0s\n",
      "[CV 3/3] END max_depth=5, max_features=None, splitter=random;, score=-0.105 total time=   0.0s\n",
      "[CV 1/3] END max_depth=6, max_features=auto, splitter=best;, score=-0.118 total time=   0.0s\n",
      "[CV 2/3] END max_depth=6, max_features=auto, splitter=best;, score=-0.224 total time=   0.0s\n",
      "[CV 3/3] END max_depth=6, max_features=auto, splitter=best;, score=-0.079 total time=   0.0s\n",
      "[CV 1/3] END max_depth=6, max_features=auto, splitter=random;, score=-0.150 total time=   0.0s\n",
      "[CV 2/3] END max_depth=6, max_features=auto, splitter=random;, score=-0.231 total time=   0.0s\n",
      "[CV 3/3] END max_depth=6, max_features=auto, splitter=random;, score=-0.083 total time=   0.0s\n",
      "[CV 1/3] END max_depth=6, max_features=log2, splitter=best;, score=-0.249 total time=   0.0s\n",
      "[CV 2/3] END max_depth=6, max_features=log2, splitter=best;, score=-0.512 total time=   0.0s\n",
      "[CV 3/3] END max_depth=6, max_features=log2, splitter=best;, score=-0.336 total time=   0.0s\n",
      "[CV 1/3] END max_depth=6, max_features=log2, splitter=random;, score=-0.202 total time=   0.0s\n",
      "[CV 2/3] END max_depth=6, max_features=log2, splitter=random;, score=-0.228 total time=   0.0s\n",
      "[CV 3/3] END max_depth=6, max_features=log2, splitter=random;, score=-0.718 total time=   0.0s\n",
      "[CV 1/3] END max_depth=6, max_features=sqrt, splitter=best;, score=-0.534 total time=   0.0s\n",
      "[CV 2/3] END max_depth=6, max_features=sqrt, splitter=best;, score=-0.324 total time=   0.0s\n",
      "[CV 3/3] END max_depth=6, max_features=sqrt, splitter=best;, score=-0.590 total time=   0.0s\n",
      "[CV 1/3] END max_depth=6, max_features=sqrt, splitter=random;, score=-0.606 total time=   0.0s\n",
      "[CV 2/3] END max_depth=6, max_features=sqrt, splitter=random;, score=-0.311 total time=   0.0s\n",
      "[CV 3/3] END max_depth=6, max_features=sqrt, splitter=random;, score=-0.636 total time=   0.0s\n",
      "[CV 1/3] END max_depth=6, max_features=None, splitter=best;, score=-0.118 total time=   0.0s\n",
      "[CV 2/3] END max_depth=6, max_features=None, splitter=best;, score=-0.224 total time=   0.0s\n",
      "[CV 3/3] END max_depth=6, max_features=None, splitter=best;, score=-0.079 total time=   0.0s\n",
      "[CV 1/3] END max_depth=6, max_features=None, splitter=random;, score=-0.119 total time=   0.0s\n",
      "[CV 2/3] END max_depth=6, max_features=None, splitter=random;, score=-0.228 total time=   0.0s\n",
      "[CV 3/3] END max_depth=6, max_features=None, splitter=random;, score=-0.101 total time=   0.0s\n",
      "[CV 1/3] END max_depth=7, max_features=auto, splitter=best;, score=-0.127 total time=   0.0s\n"
     ]
    },
    {
     "name": "stdout",
     "output_type": "stream",
     "text": [
      "[CV 2/3] END max_depth=7, max_features=auto, splitter=best;, score=-0.219 total time=   0.0s\n",
      "[CV 3/3] END max_depth=7, max_features=auto, splitter=best;, score=-0.088 total time=   0.0s\n",
      "[CV 1/3] END max_depth=7, max_features=auto, splitter=random;, score=-0.156 total time=   0.0s\n",
      "[CV 2/3] END max_depth=7, max_features=auto, splitter=random;, score=-0.230 total time=   0.0s\n",
      "[CV 3/3] END max_depth=7, max_features=auto, splitter=random;, score=-0.090 total time=   0.0s\n",
      "[CV 1/3] END max_depth=7, max_features=log2, splitter=best;, score=-0.619 total time=   0.0s\n",
      "[CV 2/3] END max_depth=7, max_features=log2, splitter=best;, score=-0.208 total time=   0.0s\n",
      "[CV 3/3] END max_depth=7, max_features=log2, splitter=best;, score=-0.146 total time=   0.0s\n",
      "[CV 1/3] END max_depth=7, max_features=log2, splitter=random;, score=-0.167 total time=   0.0s\n",
      "[CV 2/3] END max_depth=7, max_features=log2, splitter=random;, score=-0.218 total time=   0.0s\n",
      "[CV 3/3] END max_depth=7, max_features=log2, splitter=random;, score=-0.210 total time=   0.0s\n",
      "[CV 1/3] END max_depth=7, max_features=sqrt, splitter=best;, score=-0.191 total time=   0.0s\n",
      "[CV 2/3] END max_depth=7, max_features=sqrt, splitter=best;, score=-0.363 total time=   0.0s\n",
      "[CV 3/3] END max_depth=7, max_features=sqrt, splitter=best;, score=-0.131 total time=   0.0s\n",
      "[CV 1/3] END max_depth=7, max_features=sqrt, splitter=random;, score=-0.230 total time=   0.0s\n",
      "[CV 2/3] END max_depth=7, max_features=sqrt, splitter=random;, score=-0.212 total time=   0.0s\n",
      "[CV 3/3] END max_depth=7, max_features=sqrt, splitter=random;, score=-0.351 total time=   0.0s\n",
      "[CV 1/3] END max_depth=7, max_features=None, splitter=best;, score=-0.127 total time=   0.0s\n",
      "[CV 2/3] END max_depth=7, max_features=None, splitter=best;, score=-0.216 total time=   0.0s\n",
      "[CV 3/3] END max_depth=7, max_features=None, splitter=best;, score=-0.087 total time=   0.0s\n",
      "[CV 1/3] END max_depth=7, max_features=None, splitter=random;, score=-0.128 total time=   0.0s\n",
      "[CV 2/3] END max_depth=7, max_features=None, splitter=random;, score=-0.243 total time=   0.0s\n",
      "[CV 3/3] END max_depth=7, max_features=None, splitter=random;, score=-0.097 total time=   0.0s\n",
      "[CV 1/3] END max_depth=8, max_features=auto, splitter=best;, score=-0.124 total time=   0.0s\n",
      "[CV 2/3] END max_depth=8, max_features=auto, splitter=best;, score=-0.218 total time=   0.0s\n",
      "[CV 3/3] END max_depth=8, max_features=auto, splitter=best;, score=-0.092 total time=   0.0s\n",
      "[CV 1/3] END max_depth=8, max_features=auto, splitter=random;, score=-0.136 total time=   0.0s\n",
      "[CV 2/3] END max_depth=8, max_features=auto, splitter=random;, score=-0.245 total time=   0.0s\n",
      "[CV 3/3] END max_depth=8, max_features=auto, splitter=random;, score=-0.107 total time=   0.0s\n",
      "[CV 1/3] END max_depth=8, max_features=log2, splitter=best;, score=-0.625 total time=   0.0s\n",
      "[CV 2/3] END max_depth=8, max_features=log2, splitter=best;, score=-0.280 total time=   0.0s\n",
      "[CV 3/3] END max_depth=8, max_features=log2, splitter=best;, score=-0.588 total time=   0.0s\n",
      "[CV 1/3] END max_depth=8, max_features=log2, splitter=random;, score=-0.217 total time=   0.0s\n",
      "[CV 2/3] END max_depth=8, max_features=log2, splitter=random;, score=-0.260 total time=   0.0s\n",
      "[CV 3/3] END max_depth=8, max_features=log2, splitter=random;, score=-0.119 total time=   0.0s\n",
      "[CV 1/3] END max_depth=8, max_features=sqrt, splitter=best;, score=-0.192 total time=   0.0s\n",
      "[CV 2/3] END max_depth=8, max_features=sqrt, splitter=best;, score=-0.182 total time=   0.0s\n",
      "[CV 3/3] END max_depth=8, max_features=sqrt, splitter=best;, score=-0.110 total time=   0.0s\n",
      "[CV 1/3] END max_depth=8, max_features=sqrt, splitter=random;, score=-0.337 total time=   0.0s\n",
      "[CV 2/3] END max_depth=8, max_features=sqrt, splitter=random;, score=-0.241 total time=   0.0s\n",
      "[CV 3/3] END max_depth=8, max_features=sqrt, splitter=random;, score=-0.215 total time=   0.0s\n",
      "[CV 1/3] END max_depth=8, max_features=None, splitter=best;, score=-0.124 total time=   0.0s\n",
      "[CV 2/3] END max_depth=8, max_features=None, splitter=best;, score=-0.216 total time=   0.0s\n",
      "[CV 3/3] END max_depth=8, max_features=None, splitter=best;, score=-0.091 total time=   0.0s\n",
      "[CV 1/3] END max_depth=8, max_features=None, splitter=random;, score=-0.126 total time=   0.0s\n",
      "[CV 2/3] END max_depth=8, max_features=None, splitter=random;, score=-0.217 total time=   0.0s\n",
      "[CV 3/3] END max_depth=8, max_features=None, splitter=random;, score=-0.098 total time=   0.0s\n",
      "[CV 1/3] END max_depth=9, max_features=auto, splitter=best;, score=-0.121 total time=   0.0s\n",
      "[CV 2/3] END max_depth=9, max_features=auto, splitter=best;, score=-0.212 total time=   0.0s\n",
      "[CV 3/3] END max_depth=9, max_features=auto, splitter=best;, score=-0.093 total time=   0.0s\n",
      "[CV 1/3] END max_depth=9, max_features=auto, splitter=random;, score=-0.129 total time=   0.0s\n",
      "[CV 2/3] END max_depth=9, max_features=auto, splitter=random;, score=-0.253 total time=   0.0s\n",
      "[CV 3/3] END max_depth=9, max_features=auto, splitter=random;, score=-0.099 total time=   0.0s\n",
      "[CV 1/3] END max_depth=9, max_features=log2, splitter=best;, score=-0.183 total time=   0.0s\n",
      "[CV 2/3] END max_depth=9, max_features=log2, splitter=best;, score=-0.237 total time=   0.0s\n",
      "[CV 3/3] END max_depth=9, max_features=log2, splitter=best;, score=-0.179 total time=   0.0s\n",
      "[CV 1/3] END max_depth=9, max_features=log2, splitter=random;, score=-0.851 total time=   0.0s\n",
      "[CV 2/3] END max_depth=9, max_features=log2, splitter=random;, score=-0.662 total time=   0.0s\n",
      "[CV 3/3] END max_depth=9, max_features=log2, splitter=random;, score=-0.365 total time=   0.0s\n",
      "[CV 1/3] END max_depth=9, max_features=sqrt, splitter=best;, score=-0.179 total time=   0.0s\n",
      "[CV 2/3] END max_depth=9, max_features=sqrt, splitter=best;, score=-0.213 total time=   0.0s\n",
      "[CV 3/3] END max_depth=9, max_features=sqrt, splitter=best;, score=-0.114 total time=   0.0s\n",
      "[CV 1/3] END max_depth=9, max_features=sqrt, splitter=random;, score=-0.991 total time=   0.0s\n",
      "[CV 2/3] END max_depth=9, max_features=sqrt, splitter=random;, score=-0.558 total time=   0.0s\n",
      "[CV 3/3] END max_depth=9, max_features=sqrt, splitter=random;, score=-0.129 total time=   0.0s\n",
      "[CV 1/3] END max_depth=9, max_features=None, splitter=best;, score=-0.121 total time=   0.0s\n",
      "[CV 2/3] END max_depth=9, max_features=None, splitter=best;, score=-0.212 total time=   0.0s\n",
      "[CV 3/3] END max_depth=9, max_features=None, splitter=best;, score=-0.093 total time=   0.0s\n",
      "[CV 1/3] END max_depth=9, max_features=None, splitter=random;, score=-0.124 total time=   0.0s\n",
      "[CV 2/3] END max_depth=9, max_features=None, splitter=random;, score=-0.224 total time=   0.0s\n",
      "[CV 3/3] END max_depth=9, max_features=None, splitter=random;, score=-0.108 total time=   0.0s\n",
      "[CV 1/3] END max_depth=10, max_features=auto, splitter=best;, score=-0.121 total time=   0.0s\n",
      "[CV 2/3] END max_depth=10, max_features=auto, splitter=best;, score=-0.213 total time=   0.0s\n",
      "[CV 3/3] END max_depth=10, max_features=auto, splitter=best;, score=-0.093 total time=   0.0s\n",
      "[CV 1/3] END max_depth=10, max_features=auto, splitter=random;, score=-0.128 total time=   0.0s\n",
      "[CV 2/3] END max_depth=10, max_features=auto, splitter=random;, score=-0.223 total time=   0.0s\n",
      "[CV 3/3] END max_depth=10, max_features=auto, splitter=random;, score=-0.104 total time=   0.0s\n",
      "[CV 1/3] END max_depth=10, max_features=log2, splitter=best;, score=-0.314 total time=   0.0s\n",
      "[CV 2/3] END max_depth=10, max_features=log2, splitter=best;, score=-0.426 total time=   0.0s\n",
      "[CV 3/3] END max_depth=10, max_features=log2, splitter=best;, score=-0.174 total time=   0.0s\n",
      "[CV 1/3] END max_depth=10, max_features=log2, splitter=random;, score=-0.141 total time=   0.0s\n",
      "[CV 2/3] END max_depth=10, max_features=log2, splitter=random;, score=-0.460 total time=   0.0s\n",
      "[CV 3/3] END max_depth=10, max_features=log2, splitter=random;, score=-0.240 total time=   0.0s\n",
      "[CV 1/3] END max_depth=10, max_features=sqrt, splitter=best;, score=-0.414 total time=   0.0s\n",
      "[CV 2/3] END max_depth=10, max_features=sqrt, splitter=best;, score=-0.389 total time=   0.0s\n",
      "[CV 3/3] END max_depth=10, max_features=sqrt, splitter=best;, score=-0.141 total time=   0.0s\n",
      "[CV 1/3] END max_depth=10, max_features=sqrt, splitter=random;, score=-0.176 total time=   0.0s\n",
      "[CV 2/3] END max_depth=10, max_features=sqrt, splitter=random;, score=-0.343 total time=   0.0s\n",
      "[CV 3/3] END max_depth=10, max_features=sqrt, splitter=random;, score=-0.123 total time=   0.0s\n",
      "[CV 1/3] END max_depth=10, max_features=None, splitter=best;, score=-0.121 total time=   0.0s\n",
      "[CV 2/3] END max_depth=10, max_features=None, splitter=best;, score=-0.213 total time=   0.0s\n",
      "[CV 3/3] END max_depth=10, max_features=None, splitter=best;, score=-0.093 total time=   0.0s\n",
      "[CV 1/3] END max_depth=10, max_features=None, splitter=random;, score=-0.129 total time=   0.0s\n",
      "[CV 2/3] END max_depth=10, max_features=None, splitter=random;, score=-0.228 total time=   0.0s\n",
      "[CV 3/3] END max_depth=10, max_features=None, splitter=random;, score=-0.097 total time=   0.0s\n",
      "The best Params for the decision tree  {'max_depth': 6, 'max_features': None, 'splitter': 'best'}\n"
     ]
    }
   ],
   "source": [
    "from sklearn.tree import DecisionTreeRegressor \n",
    "import matplotlib.pyplot as plt\n",
    "from sklearn.model_selection import GridSearchCV\n",
    "\n",
    "\n",
    "model = DecisionTreeRegressor()\n",
    "model.fit(available_ip,available_op)\n",
    "val_score = cross_val_score(model, scaled_train_feature, scaled_train_label, cv = 5)\n",
    "print(f'Cross Validation Score for Decision Tree is: {np.array(val_score).mean()}')\n",
    "#use inbuilt class feature_importances of tree based classifiers\n",
    "#plot graph of feature importances for better visualization\n",
    "feat_importances = pd.Series(model.feature_importances_, index=available_ip.columns)\n",
    "feat_importances.nlargest(15).plot(kind='barh')\n",
    "plt.show()\n",
    "\n",
    "\n",
    "parameters={\"splitter\":[\"best\",\"random\"],\n",
    "            \"max_depth\" : [1, 2, 3, 4, 5, 6, 7, 8, 9, 10],\n",
    "           \"max_features\":[\"auto\",\"log2\",\"sqrt\",None] }\n",
    "\n",
    "hyper_param_model = GridSearchCV(model, param_grid=parameters, scoring='neg_mean_squared_error',cv=3,verbose=3)\n",
    "\n",
    "hyper_param_model.fit(scaled_train_feature, scaled_train_label)\n",
    "\n",
    "print(\"The best Params for the decision tree \", hyper_param_model.best_params_)\n",
    "\n"
   ]
  },
  {
   "cell_type": "code",
   "execution_count": 171,
   "id": "0534b3d9",
   "metadata": {},
   "outputs": [
    {
     "name": "stdout",
     "output_type": "stream",
     "text": [
      "Cross Validation Score for Decision Tree is: 0.8153807393485921\n"
     ]
    }
   ],
   "source": [
    "from sklearn.tree import DecisionTreeRegressor \n",
    "import matplotlib.pyplot as plt\n",
    "from sklearn.model_selection import GridSearchCV\n",
    "\n",
    "\n",
    "model = DecisionTreeRegressor(max_depth = 6, max_features = None, splitter = 'best')\n",
    "model.fit(available_ip,available_op)\n",
    "val_score = cross_val_score(model, scaled_train_feature, scaled_train_label, cv = 5)\n",
    "print(f'Cross Validation Score for Decision Tree is: {np.array(val_score).mean()}')\n"
   ]
  },
  {
   "cell_type": "markdown",
   "id": "5aa10621",
   "metadata": {},
   "source": [
    "# Feature Importance with univariate selection"
   ]
  },
  {
   "cell_type": "code",
   "execution_count": 157,
   "id": "aad358c3",
   "metadata": {},
   "outputs": [
    {
     "name": "stdout",
     "output_type": "stream",
     "text": [
      "                   Specs        Score\n",
      "0                  Count  9591.295417\n",
      "26            Country_UK  1598.000000\n",
      "2    average_low_celsius  1590.754951\n",
      "3     daily_mean_celsius  1432.839021\n",
      "23         Country_Spain  1337.914286\n",
      "27            Country_US  1232.800000\n",
      "1   average_high_celsius  1218.349344\n",
      "18       Country_Germany  1181.600000\n",
      "17        Country_France  1141.000000\n",
      "9              Month_Jul  1059.173077\n",
      "5              Month_Aug  1057.996154\n",
      "15             Month_Sep  1037.400000\n",
      "10             Month_Jun  1016.607692\n",
      "4              Month_Apr  1012.320330\n",
      "14             Month_Oct  1001.375000\n",
      "21        Country_Poland   998.657143\n",
      "12             Month_May   986.231868\n",
      "20   Country_Netherlands   965.000000\n",
      "13             Month_Nov   930.825000\n",
      "19         Country_Italy   919.400000\n",
      "6              Month_Dec   914.037500\n",
      "8              Month_Jan   905.780769\n",
      "16       Country_Belgium   887.314286\n",
      "22      Country_Portugal   880.200000\n",
      "25           Country_UAE   878.457143\n",
      "11             Month_Mar   865.176923\n",
      "7              Month_Feb   865.092857\n",
      "24   Country_Switzerland   864.914286\n"
     ]
    }
   ],
   "source": [
    "import pandas as pd\n",
    "import numpy as np\n",
    "from sklearn.feature_selection import SelectKBest\n",
    "from sklearn.feature_selection import chi2\n",
    "\n",
    "X = available_ip\n",
    "y = available_op\n",
    "y = y.astype(int)\n",
    "#apply SelectKBest class to extract top 10 best features\n",
    "bestfeatures = SelectKBest(score_func=chi2, k=10)\n",
    "fit = bestfeatures.fit(X,y)\n",
    "dfscores = pd.DataFrame(fit.scores_)\n",
    "dfcolumns = pd.DataFrame(X.columns)\n",
    "#concat two dataframes for better visualization \n",
    "featureScores = pd.concat([dfcolumns,dfscores],axis=1)\n",
    "featureScores.columns = ['Specs','Score']  #naming the dataframe columns\n",
    "print(featureScores.nlargest(28,'Score'))  #print 10 best features"
   ]
  },
  {
   "cell_type": "code",
   "execution_count": null,
   "id": "d8a208f0",
   "metadata": {},
   "outputs": [],
   "source": []
  }
 ],
 "metadata": {
  "kernelspec": {
   "display_name": "Python 3 (ipykernel)",
   "language": "python",
   "name": "python3"
  },
  "language_info": {
   "codemirror_mode": {
    "name": "ipython",
    "version": 3
   },
   "file_extension": ".py",
   "mimetype": "text/x-python",
   "name": "python",
   "nbconvert_exporter": "python",
   "pygments_lexer": "ipython3",
   "version": "3.9.13"
  }
 },
 "nbformat": 4,
 "nbformat_minor": 5
}

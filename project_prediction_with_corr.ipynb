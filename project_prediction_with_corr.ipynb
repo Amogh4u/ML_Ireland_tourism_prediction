{
 "cells": [
  {
   "cell_type": "markdown",
   "id": "d15705e2",
   "metadata": {},
   "source": [
    "## Importing Libraries"
   ]
  },
  {
   "cell_type": "code",
   "execution_count": 17,
   "id": "31ff2bab",
   "metadata": {},
   "outputs": [],
   "source": [
    "import pandas as pd\n",
    "import matplotlib.pyplot as plt\n",
    "import matplotlib\n",
    "import numpy as np\n",
    "from sklearn.preprocessing import StandardScaler\n",
    "from sklearn.model_selection import cross_val_score\n",
    "from sklearn.model_selection import train_test_split\n",
    "from sklearn.metrics import mean_squared_error, mean_absolute_error, r2_score\n",
    "import re\n",
    "import random\n",
    "from sklearn.model_selection import KFold\n",
    "from sklearn.svm import SVR\n",
    " \n",
    "\n",
    "from sklearn.linear_model import LinearRegression, Lasso, Ridge\n",
    "from sklearn.tree import DecisionTreeRegressor \n",
    "from sklearn.ensemble import RandomForestRegressor, GradientBoostingRegressor\n",
    "from sklearn import tree\n",
    "from sklearn.neighbors import KNeighborsRegressor\n",
    "\n",
    "from sklearn.model_selection import RepeatedKFold, GridSearchCV, cross_val_score\n",
    "\n",
    "from sklearn.ensemble import BaggingRegressor, StackingRegressor, VotingRegressor\n",
    "\n",
    "from numpy import mean\n",
    "import scipy\n",
    "import numpy as np\n",
    "\n",
    "import warnings \n",
    "warnings.filterwarnings('ignore')"
   ]
  },
  {
   "cell_type": "code",
   "execution_count": 18,
   "id": "ff383a0e",
   "metadata": {},
   "outputs": [],
   "source": [
    "random.seed(111)"
   ]
  },
  {
   "cell_type": "markdown",
   "id": "ba3bfee6",
   "metadata": {},
   "source": [
    "# Reading Data"
   ]
  },
  {
   "cell_type": "code",
   "execution_count": 19,
   "id": "8117a00f",
   "metadata": {},
   "outputs": [
    {
     "data": {
      "text/plain": [
       "numpy.float64"
      ]
     },
     "execution_count": 19,
     "metadata": {},
     "output_type": "execute_result"
    }
   ],
   "source": [
    "available_ip = pd.read_csv('available_input_corr.csv')\n",
    "available_ip = available_ip.drop(available_ip.columns[0], axis=1)\n",
    "available_op = pd.read_csv('available_output_corr.csv')\n",
    "available_op = available_op.drop(available_op.columns[0], axis = 1)\n",
    "type(available_op.VALUE[0])"
   ]
  },
  {
   "cell_type": "markdown",
   "id": "0b6c8554",
   "metadata": {},
   "source": [
    "## Normalisation of data"
   ]
  },
  {
   "cell_type": "code",
   "execution_count": 20,
   "id": "d1a29dc8",
   "metadata": {},
   "outputs": [],
   "source": [
    "X_train, X_test, y_train, y_test = train_test_split(available_ip, available_op, test_size = 0.2, random_state = 111)\n",
    "\n",
    "scaler_feature = StandardScaler()\n",
    "scaler_label = StandardScaler()\n",
    "scaled_train_feature = scaler_feature.fit_transform(X_train)\n",
    "scaled_train_label = scaler_label.fit_transform(y_train)\n",
    "scaled_test_feature = scaler_feature.fit_transform(X_test)\n",
    "scaled_test_label = scaler_label.fit_transform(y_test)"
   ]
  },
  {
   "cell_type": "markdown",
   "id": "061ec099",
   "metadata": {},
   "source": [
    "## Applying Linear Regression to train the model"
   ]
  },
  {
   "cell_type": "code",
   "execution_count": 34,
   "id": "5076c8f0",
   "metadata": {},
   "outputs": [
    {
     "name": "stdout",
     "output_type": "stream",
     "text": [
      "Cross Validation Score for LR is: 0.2081748583727927\n"
     ]
    }
   ],
   "source": [
    "Linear_Regression_Model = LinearRegression()\n",
    "val_score = cross_val_score(Linear_Regression_Model, scaled_train_feature, scaled_train_label, cv = 5,scoring= 'neg_mean_squared_error')\n",
    "print(f'Cross Validation Score for LR is: {abs(np.array(val_score).mean())}')"
   ]
  },
  {
   "cell_type": "markdown",
   "id": "7eef5404",
   "metadata": {},
   "source": [
    "## Applying Support Vector Regression to train the model"
   ]
  },
  {
   "cell_type": "code",
   "execution_count": 31,
   "id": "5cfc9038",
   "metadata": {},
   "outputs": [
    {
     "name": "stdout",
     "output_type": "stream",
     "text": [
      "Cross Validation Score for SVR is: 0.3732999538221743 C =  0.1\n",
      "Cross Validation Score for SVR is: 0.20727533567990367 C =  0.2\n",
      "Cross Validation Score for SVR is: 0.17571664232080675 C =  0.3\n",
      "Cross Validation Score for SVR is: 0.15049333711263252 C =  1\n",
      "Cross Validation Score for SVR is: 0.1502210516871648 C =  2\n",
      "Cross Validation Score for SVR is: 0.15214800132433212 C =  3\n",
      "Cross Validation Score for SVR is: 0.15509909940524053 C =  4\n",
      "Cross Validation Score for SVR is: 0.15944903720699108 C =  5\n",
      "Cross Validation Score for SVR is: 0.16313639221953083 C =  6\n",
      "Cross Validation Score for SVR is: 0.16840763208429438 C =  7\n",
      "Cross Validation Score for SVR is: 0.1732216294850756 C =  8\n",
      "Cross Validation Score for SVR is: 0.17617847455349744 C =  9\n"
     ]
    },
    {
     "data": {
      "image/png": "[encoded data removed]",
      "text/plain": [
       "<Figure size 432x288 with 1 Axes>"
      ]
     },
     "metadata": {
      "needs_background": "light"
     },
     "output_type": "display_data"
    }
   ],
   "source": [
    "score = []\n",
    "c_range = [0.1, 0.2, 0.3, 1, 2, 3, 4, 5, 6, 7, 8, 9]\n",
    "for c in c_range:\n",
    "    SVR_Model = SVR(kernel='rbf', C = c)\n",
    "    val_score = cross_val_score(SVR_Model, scaled_train_feature, scaled_train_label, cv = 5,scoring = 'neg_mean_squared_error')\n",
    "    score.append(abs(np.array(val_score).mean()))\n",
    "    print(f'Cross Validation Score for SVR is: {abs(np.array(val_score).mean())}', \"C = \", c)\n",
    "plt.plot(c_range, score,marker = 'o')\n",
    "plt.xlabel(\"C\")\n",
    "plt.ylabel(\"Cross val Score\")\n",
    "plt.title(\"SVR for Multiple C\")\n",
    "plt.show()"
   ]
  },
  {
   "cell_type": "code",
   "execution_count": 32,
   "id": "6bd4bf64",
   "metadata": {},
   "outputs": [
    {
     "name": "stdout",
     "output_type": "stream",
     "text": [
      "Cross Validation Score for SVR is: 0.21664676634816252 C =  0.1\n",
      "Cross Validation Score for SVR is: 0.21702644394257448 C =  0.2\n",
      "Cross Validation Score for SVR is: 0.21729675613258972 C =  0.3\n",
      "Cross Validation Score for SVR is: 0.21728031373328965 C =  1\n",
      "Cross Validation Score for SVR is: 0.21726770848925053 C =  2\n",
      "Cross Validation Score for SVR is: 0.21725095139745138 C =  3\n",
      "Cross Validation Score for SVR is: 0.2172394511973193 C =  4\n",
      "Cross Validation Score for SVR is: 0.21724160336428802 C =  5\n",
      "Cross Validation Score for SVR is: 0.2172501373326165 C =  6\n",
      "Cross Validation Score for SVR is: 0.21725228205623331 C =  7\n",
      "Cross Validation Score for SVR is: 0.21729445784982082 C =  8\n",
      "Cross Validation Score for SVR is: 0.21726598409561865 C =  9\n"
     ]
    },
    {
     "data": {
      "image/png": "[encoded data removed]",
      "text/plain": [
       "<Figure size 432x288 with 1 Axes>"
      ]
     },
     "metadata": {
      "needs_background": "light"
     },
     "output_type": "display_data"
    }
   ],
   "source": [
    "score = []\n",
    "c_range = [0.1, 0.2, 0.3, 1, 2, 3, 4, 5, 6, 7, 8, 9]\n",
    "for c in c_range:\n",
    "    SVR_Model = SVR(kernel='linear', C = c)\n",
    "    val_score = cross_val_score(SVR_Model, scaled_train_feature, scaled_train_label, cv = 5,scoring = 'neg_mean_squared_error')\n",
    "    score.append(abs(np.array(val_score).mean()))\n",
    "    print(f'Cross Validation Score for SVR is: {abs(np.array(val_score).mean())}', \"C = \", c)\n",
    "plt.plot(c_range, score,marker = 'o')\n",
    "plt.xlabel(\"C\")\n",
    "plt.ylabel(\"Cross val Score\")\n",
    "plt.title(\"SVR for Multiple C\")\n",
    "plt.show()"
   ]
  },
  {
   "cell_type": "markdown",
   "id": "7ee8f150",
   "metadata": {},
   "source": [
    "# Feature Importance Using extraTreeRegressor"
   ]
  },
  {
   "cell_type": "code",
   "execution_count": 24,
   "id": "dee31b07",
   "metadata": {},
   "outputs": [
    {
     "name": "stdout",
     "output_type": "stream",
     "text": [
      "[9.25252523e-02 1.12115025e-02 1.48857857e-02 1.53577048e-02\n",
      " 5.04857251e-04 1.44493966e-03 6.05848460e-04 1.12523873e-03\n",
      " 2.13139395e-03 7.26095074e-04 5.21771939e-04 2.44947209e-04\n",
      " 2.69598711e-04 5.21087960e-04 7.85663295e-04 1.40137418e-03\n",
      " 9.48327852e-04 7.65836509e-03 5.63872219e-03 1.30418298e-03\n",
      " 4.24497093e-05 3.97222741e-05 6.49071623e-04 3.21556107e-02\n",
      " 8.68250470e-04 9.50464264e-04 7.93184453e-01 1.22973178e-02]\n"
     ]
    },
    {
     "data": {
      "image/png": "[encoded data removed]",
      "text/plain": [
       "<Figure size 432x288 with 1 Axes>"
      ]
     },
     "metadata": {
      "needs_background": "light"
     },
     "output_type": "display_data"
    }
   ],
   "source": [
    "from sklearn.ensemble import ExtraTreesRegressor\n",
    "import matplotlib.pyplot as plt\n",
    "model = ExtraTreesRegressor()\n",
    "model.fit(available_ip,available_op)\n",
    "print(model.feature_importances_) #use inbuilt class feature_importances of tree based classifiers\n",
    "#plot graph of feature importances for better visualization\n",
    "feat_importances = pd.Series(model.feature_importances_, index=available_ip.columns)\n",
    "feat_importances.nlargest(10).plot(kind='barh')\n",
    "plt.show()"
   ]
  },
  {
   "cell_type": "markdown",
   "id": "00ac6cac",
   "metadata": {},
   "source": [
    "# Feature Importance using Decision Tree"
   ]
  },
  {
   "cell_type": "code",
   "execution_count": 25,
   "id": "fce1a622",
   "metadata": {},
   "outputs": [
    {
     "name": "stdout",
     "output_type": "stream",
     "text": [
      "Cross Validation Score for Decision Tree is: 0.8161056688013668\n"
     ]
    },
    {
     "data": {
      "image/png": "[encoded data removed]",
      "text/plain": [
       "<Figure size 432x288 with 1 Axes>"
      ]
     },
     "metadata": {
      "needs_background": "light"
     },
     "output_type": "display_data"
    },
    {
     "name": "stdout",
     "output_type": "stream",
     "text": [
      "Fitting 3 folds for each of 80 candidates, totalling 240 fits\n",
      "[CV 1/3] END max_depth=1, max_features=auto, splitter=best;, score=-0.272 total time=   0.0s\n",
      "[CV 2/3] END max_depth=1, max_features=auto, splitter=best;, score=-0.294 total time=   0.0s\n",
      "[CV 3/3] END max_depth=1, max_features=auto, splitter=best;, score=-0.317 total time=   0.0s\n",
      "[CV 1/3] END max_depth=1, max_features=auto, splitter=random;, score=-0.272 total time=   0.0s\n",
      "[CV 2/3] END max_depth=1, max_features=auto, splitter=random;, score=-0.294 total time=   0.0s\n",
      "[CV 3/3] END max_depth=1, max_features=auto, splitter=random;, score=-0.317 total time=   0.0s\n",
      "[CV 1/3] END max_depth=1, max_features=log2, splitter=best;, score=-1.172 total time=   0.0s\n",
      "[CV 2/3] END max_depth=1, max_features=log2, splitter=best;, score=-0.882 total time=   0.0s\n",
      "[CV 3/3] END max_depth=1, max_features=log2, splitter=best;, score=-0.317 total time=   0.0s\n",
      "[CV 1/3] END max_depth=1, max_features=log2, splitter=random;, score=-1.177 total time=   0.0s\n",
      "[CV 2/3] END max_depth=1, max_features=log2, splitter=random;, score=-0.876 total time=   0.0s\n",
      "[CV 3/3] END max_depth=1, max_features=log2, splitter=random;, score=-0.317 total time=   0.0s\n",
      "[CV 1/3] END max_depth=1, max_features=sqrt, splitter=best;, score=-1.169 total time=   0.0s\n",
      "[CV 2/3] END max_depth=1, max_features=sqrt, splitter=best;, score=-0.759 total time=   0.0s\n",
      "[CV 3/3] END max_depth=1, max_features=sqrt, splitter=best;, score=-0.891 total time=   0.0s\n",
      "[CV 1/3] END max_depth=1, max_features=sqrt, splitter=random;, score=-0.272 total time=   0.0s\n",
      "[CV 2/3] END max_depth=1, max_features=sqrt, splitter=random;, score=-0.882 total time=   0.0s\n",
      "[CV 3/3] END max_depth=1, max_features=sqrt, splitter=random;, score=-0.891 total time=   0.0s\n",
      "[CV 1/3] END max_depth=1, max_features=None, splitter=best;, score=-0.272 total time=   0.0s\n",
      "[CV 2/3] END max_depth=1, max_features=None, splitter=best;, score=-0.294 total time=   0.0s\n",
      "[CV 3/3] END max_depth=1, max_features=None, splitter=best;, score=-0.317 total time=   0.0s\n",
      "[CV 1/3] END max_depth=1, max_features=None, splitter=random;, score=-0.272 total time=   0.0s\n",
      "[CV 2/3] END max_depth=1, max_features=None, splitter=random;, score=-0.294 total time=   0.0s\n",
      "[CV 3/3] END max_depth=1, max_features=None, splitter=random;, score=-0.317 total time=   0.0s\n",
      "[CV 1/3] END max_depth=2, max_features=auto, splitter=best;, score=-0.185 total time=   0.0s\n",
      "[CV 2/3] END max_depth=2, max_features=auto, splitter=best;, score=-0.226 total time=   0.0s\n",
      "[CV 3/3] END max_depth=2, max_features=auto, splitter=best;, score=-0.174 total time=   0.0s\n",
      "[CV 1/3] END max_depth=2, max_features=auto, splitter=random;, score=-0.218 total time=   0.0s\n",
      "[CV 2/3] END max_depth=2, max_features=auto, splitter=random;, score=-0.260 total time=   0.0s\n",
      "[CV 3/3] END max_depth=2, max_features=auto, splitter=random;, score=-0.209 total time=   0.0s\n",
      "[CV 1/3] END max_depth=2, max_features=log2, splitter=best;, score=-0.251 total time=   0.0s\n",
      "[CV 2/3] END max_depth=2, max_features=log2, splitter=best;, score=-0.850 total time=   0.0s\n",
      "[CV 3/3] END max_depth=2, max_features=log2, splitter=best;, score=-0.883 total time=   0.0s\n",
      "[CV 1/3] END max_depth=2, max_features=log2, splitter=random;, score=-0.870 total time=   0.0s\n",
      "[CV 2/3] END max_depth=2, max_features=log2, splitter=random;, score=-0.641 total time=   0.0s\n",
      "[CV 3/3] END max_depth=2, max_features=log2, splitter=random;, score=-0.882 total time=   0.0s\n",
      "[CV 1/3] END max_depth=2, max_features=sqrt, splitter=best;, score=-1.124 total time=   0.0s\n",
      "[CV 2/3] END max_depth=2, max_features=sqrt, splitter=best;, score=-0.728 total time=   0.0s\n",
      "[CV 3/3] END max_depth=2, max_features=sqrt, splitter=best;, score=-0.882 total time=   0.0s\n",
      "[CV 1/3] END max_depth=2, max_features=sqrt, splitter=random;, score=-1.142 total time=   0.0s\n",
      "[CV 2/3] END max_depth=2, max_features=sqrt, splitter=random;, score=-0.850 total time=   0.0s\n",
      "[CV 3/3] END max_depth=2, max_features=sqrt, splitter=random;, score=-0.879 total time=   0.0s\n",
      "[CV 1/3] END max_depth=2, max_features=None, splitter=best;, score=-0.185 total time=   0.0s\n",
      "[CV 2/3] END max_depth=2, max_features=None, splitter=best;, score=-0.226 total time=   0.0s\n",
      "[CV 3/3] END max_depth=2, max_features=None, splitter=best;, score=-0.174 total time=   0.0s\n",
      "[CV 1/3] END max_depth=2, max_features=None, splitter=random;, score=-0.232 total time=   0.0s\n",
      "[CV 2/3] END max_depth=2, max_features=None, splitter=random;, score=-0.226 total time=   0.0s\n",
      "[CV 3/3] END max_depth=2, max_features=None, splitter=random;, score=-0.174 total time=   0.0s\n",
      "[CV 1/3] END max_depth=3, max_features=auto, splitter=best;, score=-0.161 total time=   0.0s\n",
      "[CV 2/3] END max_depth=3, max_features=auto, splitter=best;, score=-0.224 total time=   0.0s\n",
      "[CV 3/3] END max_depth=3, max_features=auto, splitter=best;, score=-0.135 total time=   0.0s\n",
      "[CV 1/3] END max_depth=3, max_features=auto, splitter=random;, score=-0.198 total time=   0.0s\n",
      "[CV 2/3] END max_depth=3, max_features=auto, splitter=random;, score=-0.228 total time=   0.0s\n",
      "[CV 3/3] END max_depth=3, max_features=auto, splitter=random;, score=-0.140 total time=   0.0s\n",
      "[CV 1/3] END max_depth=3, max_features=log2, splitter=best;, score=-0.615 total time=   0.0s\n",
      "[CV 2/3] END max_depth=3, max_features=log2, splitter=best;, score=-0.842 total time=   0.0s\n",
      "[CV 3/3] END max_depth=3, max_features=log2, splitter=best;, score=-0.337 total time=   0.0s\n",
      "[CV 1/3] END max_depth=3, max_features=log2, splitter=random;, score=-0.266 total time=   0.0s\n",
      "[CV 2/3] END max_depth=3, max_features=log2, splitter=random;, score=-0.815 total time=   0.0s\n",
      "[CV 3/3] END max_depth=3, max_features=log2, splitter=random;, score=-0.215 total time=   0.0s\n",
      "[CV 1/3] END max_depth=3, max_features=sqrt, splitter=best;, score=-0.519 total time=   0.0s\n",
      "[CV 2/3] END max_depth=3, max_features=sqrt, splitter=best;, score=-0.277 total time=   0.0s\n",
      "[CV 3/3] END max_depth=3, max_features=sqrt, splitter=best;, score=-0.873 total time=   0.0s\n",
      "[CV 1/3] END max_depth=3, max_features=sqrt, splitter=random;, score=-0.277 total time=   0.0s\n",
      "[CV 2/3] END max_depth=3, max_features=sqrt, splitter=random;, score=-0.309 total time=   0.0s\n",
      "[CV 3/3] END max_depth=3, max_features=sqrt, splitter=random;, score=-0.800 total time=   0.0s\n",
      "[CV 1/3] END max_depth=3, max_features=None, splitter=best;, score=-0.161 total time=   0.0s\n",
      "[CV 2/3] END max_depth=3, max_features=None, splitter=best;, score=-0.224 total time=   0.0s\n",
      "[CV 3/3] END max_depth=3, max_features=None, splitter=best;, score=-0.135 total time=   0.0s\n",
      "[CV 1/3] END max_depth=3, max_features=None, splitter=random;, score=-0.160 total time=   0.0s\n",
      "[CV 2/3] END max_depth=3, max_features=None, splitter=random;, score=-0.181 total time=   0.0s\n",
      "[CV 3/3] END max_depth=3, max_features=None, splitter=random;, score=-0.130 total time=   0.0s\n",
      "[CV 1/3] END max_depth=4, max_features=auto, splitter=best;, score=-0.134 total time=   0.0s\n",
      "[CV 2/3] END max_depth=4, max_features=auto, splitter=best;, score=-0.229 total time=   0.0s\n",
      "[CV 3/3] END max_depth=4, max_features=auto, splitter=best;, score=-0.112 total time=   0.0s\n",
      "[CV 1/3] END max_depth=4, max_features=auto, splitter=random;, score=-0.158 total time=   0.0s\n",
      "[CV 2/3] END max_depth=4, max_features=auto, splitter=random;, score=-0.232 total time=   0.0s\n",
      "[CV 3/3] END max_depth=4, max_features=auto, splitter=random;, score=-0.127 total time=   0.0s\n",
      "[CV 1/3] END max_depth=4, max_features=log2, splitter=best;, score=-0.964 total time=   0.0s\n",
      "[CV 2/3] END max_depth=4, max_features=log2, splitter=best;, score=-0.444 total time=   0.0s\n",
      "[CV 3/3] END max_depth=4, max_features=log2, splitter=best;, score=-0.807 total time=   0.0s\n",
      "[CV 1/3] END max_depth=4, max_features=log2, splitter=random;, score=-0.451 total time=   0.0s\n",
      "[CV 2/3] END max_depth=4, max_features=log2, splitter=random;, score=-0.865 total time=   0.0s\n",
      "[CV 3/3] END max_depth=4, max_features=log2, splitter=random;, score=-0.302 total time=   0.0s\n",
      "[CV 1/3] END max_depth=4, max_features=sqrt, splitter=best;, score=-0.250 total time=   0.0s\n",
      "[CV 2/3] END max_depth=4, max_features=sqrt, splitter=best;, score=-0.688 total time=   0.0s\n",
      "[CV 3/3] END max_depth=4, max_features=sqrt, splitter=best;, score=-0.803 total time=   0.0s\n",
      "[CV 1/3] END max_depth=4, max_features=sqrt, splitter=random;, score=-1.071 total time=   0.0s\n",
      "[CV 2/3] END max_depth=4, max_features=sqrt, splitter=random;, score=-0.799 total time=   0.0s\n",
      "[CV 3/3] END max_depth=4, max_features=sqrt, splitter=random;, score=-0.208 total time=   0.0s\n",
      "[CV 1/3] END max_depth=4, max_features=None, splitter=best;, score=-0.134 total time=   0.0s\n",
      "[CV 2/3] END max_depth=4, max_features=None, splitter=best;, score=-0.229 total time=   0.0s\n",
      "[CV 3/3] END max_depth=4, max_features=None, splitter=best;, score=-0.112 total time=   0.0s\n",
      "[CV 1/3] END max_depth=4, max_features=None, splitter=random;, score=-0.195 total time=   0.0s\n",
      "[CV 2/3] END max_depth=4, max_features=None, splitter=random;, score=-0.166 total time=   0.0s\n",
      "[CV 3/3] END max_depth=4, max_features=None, splitter=random;, score=-0.112 total time=   0.0s\n",
      "[CV 1/3] END max_depth=5, max_features=auto, splitter=best;, score=-0.109 total time=   0.0s\n",
      "[CV 2/3] END max_depth=5, max_features=auto, splitter=best;, score=-0.230 total time=   0.0s\n",
      "[CV 3/3] END max_depth=5, max_features=auto, splitter=best;, score=-0.082 total time=   0.0s\n",
      "[CV 1/3] END max_depth=5, max_features=auto, splitter=random;, score=-0.127 total time=   0.0s\n",
      "[CV 2/3] END max_depth=5, max_features=auto, splitter=random;, score=-0.230 total time=   0.0s\n",
      "[CV 3/3] END max_depth=5, max_features=auto, splitter=random;, score=-0.099 total time=   0.0s\n",
      "[CV 1/3] END max_depth=5, max_features=log2, splitter=best;, score=-1.087 total time=   0.0s\n",
      "[CV 2/3] END max_depth=5, max_features=log2, splitter=best;, score=-0.468 total time=   0.0s\n",
      "[CV 3/3] END max_depth=5, max_features=log2, splitter=best;, score=-0.131 total time=   0.0s\n",
      "[CV 1/3] END max_depth=5, max_features=log2, splitter=random;, score=-0.256 total time=   0.0s\n",
      "[CV 2/3] END max_depth=5, max_features=log2, splitter=random;, score=-0.801 total time=   0.0s\n",
      "[CV 3/3] END max_depth=5, max_features=log2, splitter=random;, score=-0.831 total time=   0.0s\n",
      "[CV 1/3] END max_depth=5, max_features=sqrt, splitter=best;, score=-0.570 total time=   0.0s\n",
      "[CV 2/3] END max_depth=5, max_features=sqrt, splitter=best;, score=-0.673 total time=   0.0s\n",
      "[CV 3/3] END max_depth=5, max_features=sqrt, splitter=best;, score=-0.126 total time=   0.0s\n",
      "[CV 1/3] END max_depth=5, max_features=sqrt, splitter=random;, score=-0.218 total time=   0.0s\n",
      "[CV 2/3] END max_depth=5, max_features=sqrt, splitter=random;, score=-0.637 total time=   0.0s\n",
      "[CV 3/3] END max_depth=5, max_features=sqrt, splitter=random;, score=-0.173 total time=   0.0s\n",
      "[CV 1/3] END max_depth=5, max_features=None, splitter=best;, score=-0.109 total time=   0.0s\n",
      "[CV 2/3] END max_depth=5, max_features=None, splitter=best;, score=-0.230 total time=   0.0s\n",
      "[CV 3/3] END max_depth=5, max_features=None, splitter=best;, score=-0.082 total time=   0.0s\n",
      "[CV 1/3] END max_depth=5, max_features=None, splitter=random;, score=-0.174 total time=   0.0s\n",
      "[CV 2/3] END max_depth=5, max_features=None, splitter=random;, score=-0.238 total time=   0.0s\n",
      "[CV 3/3] END max_depth=5, max_features=None, splitter=random;, score=-0.097 total time=   0.0s\n",
      "[CV 1/3] END max_depth=6, max_features=auto, splitter=best;, score=-0.118 total time=   0.0s\n",
      "[CV 2/3] END max_depth=6, max_features=auto, splitter=best;, score=-0.224 total time=   0.0s\n",
      "[CV 3/3] END max_depth=6, max_features=auto, splitter=best;, score=-0.079 total time=   0.0s\n",
      "[CV 1/3] END max_depth=6, max_features=auto, splitter=random;, score=-0.124 total time=   0.0s\n",
      "[CV 2/3] END max_depth=6, max_features=auto, splitter=random;, score=-0.214 total time=   0.0s\n",
      "[CV 3/3] END max_depth=6, max_features=auto, splitter=random;, score=-0.100 total time=   0.0s\n",
      "[CV 1/3] END max_depth=6, max_features=log2, splitter=best;, score=-0.247 total time=   0.0s\n",
      "[CV 2/3] END max_depth=6, max_features=log2, splitter=best;, score=-0.233 total time=   0.0s\n",
      "[CV 3/3] END max_depth=6, max_features=log2, splitter=best;, score=-0.343 total time=   0.0s\n",
      "[CV 1/3] END max_depth=6, max_features=log2, splitter=random;, score=-1.041 total time=   0.0s\n",
      "[CV 2/3] END max_depth=6, max_features=log2, splitter=random;, score=-0.180 total time=   0.0s\n",
      "[CV 3/3] END max_depth=6, max_features=log2, splitter=random;, score=-0.517 total time=   0.0s\n",
      "[CV 1/3] END max_depth=6, max_features=sqrt, splitter=best;, score=-0.845 total time=   0.0s\n",
      "[CV 2/3] END max_depth=6, max_features=sqrt, splitter=best;, score=-0.483 total time=   0.0s\n",
      "[CV 3/3] END max_depth=6, max_features=sqrt, splitter=best;, score=-0.297 total time=   0.0s\n",
      "[CV 1/3] END max_depth=6, max_features=sqrt, splitter=random;, score=-0.358 total time=   0.0s\n",
      "[CV 2/3] END max_depth=6, max_features=sqrt, splitter=random;, score=-0.192 total time=   0.0s\n",
      "[CV 3/3] END max_depth=6, max_features=sqrt, splitter=random;, score=-0.174 total time=   0.0s\n",
      "[CV 1/3] END max_depth=6, max_features=None, splitter=best;, score=-0.118 total time=   0.0s\n",
      "[CV 2/3] END max_depth=6, max_features=None, splitter=best;, score=-0.224 total time=   0.0s\n"
     ]
    },
    {
     "name": "stdout",
     "output_type": "stream",
     "text": [
      "[CV 3/3] END max_depth=6, max_features=None, splitter=best;, score=-0.079 total time=   0.0s\n",
      "[CV 1/3] END max_depth=6, max_features=None, splitter=random;, score=-0.129 total time=   0.0s\n",
      "[CV 2/3] END max_depth=6, max_features=None, splitter=random;, score=-0.245 total time=   0.0s\n",
      "[CV 3/3] END max_depth=6, max_features=None, splitter=random;, score=-0.091 total time=   0.0s\n",
      "[CV 1/3] END max_depth=7, max_features=auto, splitter=best;, score=-0.127 total time=   0.0s\n",
      "[CV 2/3] END max_depth=7, max_features=auto, splitter=best;, score=-0.219 total time=   0.0s\n",
      "[CV 3/3] END max_depth=7, max_features=auto, splitter=best;, score=-0.088 total time=   0.0s\n",
      "[CV 1/3] END max_depth=7, max_features=auto, splitter=random;, score=-0.132 total time=   0.0s\n",
      "[CV 2/3] END max_depth=7, max_features=auto, splitter=random;, score=-0.214 total time=   0.0s\n",
      "[CV 3/3] END max_depth=7, max_features=auto, splitter=random;, score=-0.081 total time=   0.0s\n",
      "[CV 1/3] END max_depth=7, max_features=log2, splitter=best;, score=-0.189 total time=   0.0s\n",
      "[CV 2/3] END max_depth=7, max_features=log2, splitter=best;, score=-0.310 total time=   0.0s\n",
      "[CV 3/3] END max_depth=7, max_features=log2, splitter=best;, score=-0.144 total time=   0.0s\n",
      "[CV 1/3] END max_depth=7, max_features=log2, splitter=random;, score=-0.959 total time=   0.0s\n",
      "[CV 2/3] END max_depth=7, max_features=log2, splitter=random;, score=-0.230 total time=   0.0s\n",
      "[CV 3/3] END max_depth=7, max_features=log2, splitter=random;, score=-0.168 total time=   0.0s\n",
      "[CV 1/3] END max_depth=7, max_features=sqrt, splitter=best;, score=-0.252 total time=   0.0s\n",
      "[CV 2/3] END max_depth=7, max_features=sqrt, splitter=best;, score=-0.217 total time=   0.0s\n",
      "[CV 3/3] END max_depth=7, max_features=sqrt, splitter=best;, score=-0.493 total time=   0.0s\n",
      "[CV 1/3] END max_depth=7, max_features=sqrt, splitter=random;, score=-0.626 total time=   0.0s\n",
      "[CV 2/3] END max_depth=7, max_features=sqrt, splitter=random;, score=-0.197 total time=   0.0s\n",
      "[CV 3/3] END max_depth=7, max_features=sqrt, splitter=random;, score=-0.326 total time=   0.0s\n",
      "[CV 1/3] END max_depth=7, max_features=None, splitter=best;, score=-0.127 total time=   0.0s\n",
      "[CV 2/3] END max_depth=7, max_features=None, splitter=best;, score=-0.219 total time=   0.0s\n",
      "[CV 3/3] END max_depth=7, max_features=None, splitter=best;, score=-0.087 total time=   0.0s\n",
      "[CV 1/3] END max_depth=7, max_features=None, splitter=random;, score=-0.122 total time=   0.0s\n",
      "[CV 2/3] END max_depth=7, max_features=None, splitter=random;, score=-0.253 total time=   0.0s\n",
      "[CV 3/3] END max_depth=7, max_features=None, splitter=random;, score=-0.096 total time=   0.0s\n",
      "[CV 1/3] END max_depth=8, max_features=auto, splitter=best;, score=-0.124 total time=   0.0s\n",
      "[CV 2/3] END max_depth=8, max_features=auto, splitter=best;, score=-0.216 total time=   0.0s\n",
      "[CV 3/3] END max_depth=8, max_features=auto, splitter=best;, score=-0.091 total time=   0.0s\n",
      "[CV 1/3] END max_depth=8, max_features=auto, splitter=random;, score=-0.165 total time=   0.0s\n",
      "[CV 2/3] END max_depth=8, max_features=auto, splitter=random;, score=-0.256 total time=   0.0s\n",
      "[CV 3/3] END max_depth=8, max_features=auto, splitter=random;, score=-0.097 total time=   0.0s\n",
      "[CV 1/3] END max_depth=8, max_features=log2, splitter=best;, score=-0.341 total time=   0.0s\n",
      "[CV 2/3] END max_depth=8, max_features=log2, splitter=best;, score=-0.521 total time=   0.0s\n",
      "[CV 3/3] END max_depth=8, max_features=log2, splitter=best;, score=-0.113 total time=   0.0s\n",
      "[CV 1/3] END max_depth=8, max_features=log2, splitter=random;, score=-0.250 total time=   0.0s\n",
      "[CV 2/3] END max_depth=8, max_features=log2, splitter=random;, score=-0.625 total time=   0.0s\n",
      "[CV 3/3] END max_depth=8, max_features=log2, splitter=random;, score=-0.148 total time=   0.0s\n",
      "[CV 1/3] END max_depth=8, max_features=sqrt, splitter=best;, score=-0.770 total time=   0.0s\n",
      "[CV 2/3] END max_depth=8, max_features=sqrt, splitter=best;, score=-0.449 total time=   0.0s\n",
      "[CV 3/3] END max_depth=8, max_features=sqrt, splitter=best;, score=-0.288 total time=   0.0s\n",
      "[CV 1/3] END max_depth=8, max_features=sqrt, splitter=random;, score=-0.250 total time=   0.0s\n",
      "[CV 2/3] END max_depth=8, max_features=sqrt, splitter=random;, score=-0.175 total time=   0.0s\n",
      "[CV 3/3] END max_depth=8, max_features=sqrt, splitter=random;, score=-0.153 total time=   0.0s\n",
      "[CV 1/3] END max_depth=8, max_features=None, splitter=best;, score=-0.125 total time=   0.0s\n",
      "[CV 2/3] END max_depth=8, max_features=None, splitter=best;, score=-0.216 total time=   0.0s\n",
      "[CV 3/3] END max_depth=8, max_features=None, splitter=best;, score=-0.092 total time=   0.0s\n",
      "[CV 1/3] END max_depth=8, max_features=None, splitter=random;, score=-0.132 total time=   0.0s\n",
      "[CV 2/3] END max_depth=8, max_features=None, splitter=random;, score=-0.259 total time=   0.0s\n",
      "[CV 3/3] END max_depth=8, max_features=None, splitter=random;, score=-0.089 total time=   0.0s\n",
      "[CV 1/3] END max_depth=9, max_features=auto, splitter=best;, score=-0.120 total time=   0.0s\n",
      "[CV 2/3] END max_depth=9, max_features=auto, splitter=best;, score=-0.212 total time=   0.0s\n",
      "[CV 3/3] END max_depth=9, max_features=auto, splitter=best;, score=-0.094 total time=   0.0s\n",
      "[CV 1/3] END max_depth=9, max_features=auto, splitter=random;, score=-0.120 total time=   0.0s\n",
      "[CV 2/3] END max_depth=9, max_features=auto, splitter=random;, score=-0.215 total time=   0.0s\n",
      "[CV 3/3] END max_depth=9, max_features=auto, splitter=random;, score=-0.092 total time=   0.0s\n",
      "[CV 1/3] END max_depth=9, max_features=log2, splitter=best;, score=-0.691 total time=   0.0s\n",
      "[CV 2/3] END max_depth=9, max_features=log2, splitter=best;, score=-0.523 total time=   0.0s\n",
      "[CV 3/3] END max_depth=9, max_features=log2, splitter=best;, score=-0.092 total time=   0.0s\n",
      "[CV 1/3] END max_depth=9, max_features=log2, splitter=random;, score=-0.607 total time=   0.0s\n",
      "[CV 2/3] END max_depth=9, max_features=log2, splitter=random;, score=-0.719 total time=   0.0s\n",
      "[CV 3/3] END max_depth=9, max_features=log2, splitter=random;, score=-0.198 total time=   0.0s\n",
      "[CV 1/3] END max_depth=9, max_features=sqrt, splitter=best;, score=-0.173 total time=   0.0s\n",
      "[CV 2/3] END max_depth=9, max_features=sqrt, splitter=best;, score=-0.284 total time=   0.0s\n",
      "[CV 3/3] END max_depth=9, max_features=sqrt, splitter=best;, score=-0.112 total time=   0.0s\n",
      "[CV 1/3] END max_depth=9, max_features=sqrt, splitter=random;, score=-0.211 total time=   0.0s\n",
      "[CV 2/3] END max_depth=9, max_features=sqrt, splitter=random;, score=-0.738 total time=   0.0s\n",
      "[CV 3/3] END max_depth=9, max_features=sqrt, splitter=random;, score=-0.142 total time=   0.0s\n",
      "[CV 1/3] END max_depth=9, max_features=None, splitter=best;, score=-0.121 total time=   0.0s\n",
      "[CV 2/3] END max_depth=9, max_features=None, splitter=best;, score=-0.215 total time=   0.0s\n",
      "[CV 3/3] END max_depth=9, max_features=None, splitter=best;, score=-0.093 total time=   0.0s\n",
      "[CV 1/3] END max_depth=9, max_features=None, splitter=random;, score=-0.122 total time=   0.0s\n",
      "[CV 2/3] END max_depth=9, max_features=None, splitter=random;, score=-0.255 total time=   0.0s\n",
      "[CV 3/3] END max_depth=9, max_features=None, splitter=random;, score=-0.113 total time=   0.0s\n",
      "[CV 1/3] END max_depth=10, max_features=auto, splitter=best;, score=-0.121 total time=   0.0s\n",
      "[CV 2/3] END max_depth=10, max_features=auto, splitter=best;, score=-0.213 total time=   0.0s\n",
      "[CV 3/3] END max_depth=10, max_features=auto, splitter=best;, score=-0.092 total time=   0.0s\n",
      "[CV 1/3] END max_depth=10, max_features=auto, splitter=random;, score=-0.124 total time=   0.0s\n",
      "[CV 2/3] END max_depth=10, max_features=auto, splitter=random;, score=-0.237 total time=   0.0s\n",
      "[CV 3/3] END max_depth=10, max_features=auto, splitter=random;, score=-0.107 total time=   0.0s\n",
      "[CV 1/3] END max_depth=10, max_features=log2, splitter=best;, score=-0.398 total time=   0.0s\n",
      "[CV 2/3] END max_depth=10, max_features=log2, splitter=best;, score=-0.199 total time=   0.0s\n",
      "[CV 3/3] END max_depth=10, max_features=log2, splitter=best;, score=-0.350 total time=   0.0s\n",
      "[CV 1/3] END max_depth=10, max_features=log2, splitter=random;, score=-0.572 total time=   0.0s\n",
      "[CV 2/3] END max_depth=10, max_features=log2, splitter=random;, score=-0.243 total time=   0.0s\n",
      "[CV 3/3] END max_depth=10, max_features=log2, splitter=random;, score=-0.174 total time=   0.0s\n",
      "[CV 1/3] END max_depth=10, max_features=sqrt, splitter=best;, score=-0.214 total time=   0.0s\n",
      "[CV 2/3] END max_depth=10, max_features=sqrt, splitter=best;, score=-0.206 total time=   0.0s\n",
      "[CV 3/3] END max_depth=10, max_features=sqrt, splitter=best;, score=-0.171 total time=   0.0s\n",
      "[CV 1/3] END max_depth=10, max_features=sqrt, splitter=random;, score=-0.892 total time=   0.0s\n",
      "[CV 2/3] END max_depth=10, max_features=sqrt, splitter=random;, score=-0.228 total time=   0.0s\n",
      "[CV 3/3] END max_depth=10, max_features=sqrt, splitter=random;, score=-0.146 total time=   0.0s\n",
      "[CV 1/3] END max_depth=10, max_features=None, splitter=best;, score=-0.121 total time=   0.0s\n",
      "[CV 2/3] END max_depth=10, max_features=None, splitter=best;, score=-0.216 total time=   0.0s\n",
      "[CV 3/3] END max_depth=10, max_features=None, splitter=best;, score=-0.093 total time=   0.0s\n",
      "[CV 1/3] END max_depth=10, max_features=None, splitter=random;, score=-0.121 total time=   0.0s\n",
      "[CV 2/3] END max_depth=10, max_features=None, splitter=random;, score=-0.246 total time=   0.0s\n",
      "[CV 3/3] END max_depth=10, max_features=None, splitter=random;, score=-0.096 total time=   0.0s\n",
      "The best Params for the decision tree  {'max_depth': 5, 'max_features': 'auto', 'splitter': 'best'}\n"
     ]
    }
   ],
   "source": [
    "from sklearn.tree import DecisionTreeRegressor \n",
    "import matplotlib.pyplot as plt\n",
    "from sklearn.model_selection import GridSearchCV\n",
    "\n",
    "\n",
    "model = DecisionTreeRegressor()\n",
    "model.fit(available_ip,available_op)\n",
    "val_score = cross_val_score(model, scaled_train_feature, scaled_train_label, cv = 5)\n",
    "print(f'Cross Validation Score for Decision Tree is: {np.array(val_score).mean()}')\n",
    "#use inbuilt class feature_importances of tree based classifiers\n",
    "#plot graph of feature importances for better visualization\n",
    "feat_importances = pd.Series(model.feature_importances_, index=available_ip.columns)\n",
    "feat_importances.nlargest(15).plot(kind='barh')\n",
    "plt.show()\n",
    "\n",
    "\n",
    "parameters={\"splitter\":[\"best\",\"random\"],\n",
    "            \"max_depth\" : [1, 2, 3, 4, 5, 6, 7, 8, 9, 10],\n",
    "           \"max_features\":[\"auto\",\"log2\",\"sqrt\",None] }\n",
    "\n",
    "hyper_param_model = GridSearchCV(model, param_grid=parameters, scoring='neg_mean_squared_error',cv=3,verbose=3)\n",
    "\n",
    "hyper_param_model.fit(scaled_train_feature, scaled_train_label)\n",
    "\n",
    "print(\"The best Params for the decision tree \", hyper_param_model.best_params_)\n",
    "\n"
   ]
  },
  {
   "cell_type": "code",
   "execution_count": 35,
   "id": "0534b3d9",
   "metadata": {},
   "outputs": [
    {
     "name": "stdout",
     "output_type": "stream",
     "text": [
      "Cross Validation Score for Decision Tree is: 0.162828395315362\n"
     ]
    }
   ],
   "source": [
    "from sklearn.tree import DecisionTreeRegressor \n",
    "import matplotlib.pyplot as plt\n",
    "from sklearn.model_selection import GridSearchCV\n",
    "\n",
    "\n",
    "model = DecisionTreeRegressor(max_depth = 6, max_features = None, splitter = 'best')\n",
    "model.fit(available_ip,available_op)\n",
    "val_score = cross_val_score(model, scaled_train_feature, scaled_train_label, cv = 5,scoring = 'neg_mean_squared_error')\n",
    "print(f'Cross Validation Score for Decision Tree is: {abs(np.array(val_score).mean())}')\n"
   ]
  },
  {
   "cell_type": "markdown",
   "id": "83e734b4",
   "metadata": {},
   "source": [
    "# Best Model SVR kernel = 'rbf' C= 2"
   ]
  },
  {
   "cell_type": "code",
   "execution_count": 38,
   "id": "eb55d89d",
   "metadata": {},
   "outputs": [
    {
     "name": "stdout",
     "output_type": "stream",
     "text": [
      "Mean Square Error for SVR is: 0.1502210516871648\n"
     ]
    }
   ],
   "source": [
    "SVR_Model = SVR(kernel='rbf', C = 2)\n",
    "val_score = cross_val_score(SVR_Model, scaled_train_feature, scaled_train_label, cv = 5,scoring = 'neg_mean_squared_error')\n",
    "print(f'Mean Square Error for SVR is: {abs(val_score.mean())}')\n"
   ]
  },
  {
   "cell_type": "markdown",
   "id": "5aa10621",
   "metadata": {},
   "source": [
    "# Feature Importance with univariate selection"
   ]
  },
  {
   "cell_type": "code",
   "execution_count": 27,
   "id": "aad358c3",
   "metadata": {},
   "outputs": [
    {
     "name": "stdout",
     "output_type": "stream",
     "text": [
      "                   Specs        Score\n",
      "0                  Count  9591.295417\n",
      "26            Country_UK  1598.000000\n",
      "2    average_low_celsius  1590.754951\n",
      "3     daily_mean_celsius  1432.839021\n",
      "23         Country_Spain  1337.914286\n",
      "27            Country_US  1232.800000\n",
      "1   average_high_celsius  1218.349344\n",
      "18       Country_Germany  1181.600000\n",
      "17        Country_France  1141.000000\n",
      "9              Month_Jul  1059.173077\n",
      "5              Month_Aug  1057.996154\n",
      "15             Month_Sep  1037.400000\n",
      "10             Month_Jun  1016.607692\n",
      "4              Month_Apr  1012.320330\n",
      "14             Month_Oct  1001.375000\n",
      "21        Country_Poland   998.657143\n",
      "12             Month_May   986.231868\n",
      "20   Country_Netherlands   965.000000\n",
      "13             Month_Nov   930.825000\n",
      "19         Country_Italy   919.400000\n",
      "6              Month_Dec   914.037500\n",
      "8              Month_Jan   905.780769\n",
      "16       Country_Belgium   887.314286\n",
      "22      Country_Portugal   880.200000\n",
      "25           Country_UAE   878.457143\n",
      "11             Month_Mar   865.176923\n",
      "7              Month_Feb   865.092857\n",
      "24   Country_Switzerland   864.914286\n"
     ]
    }
   ],
   "source": [
    "import pandas as pd\n",
    "import numpy as np\n",
    "from sklearn.feature_selection import SelectKBest\n",
    "from sklearn.feature_selection import chi2\n",
    "\n",
    "X = available_ip\n",
    "y = available_op\n",
    "y = y.astype(int)\n",
    "#apply SelectKBest class to extract top 10 best features\n",
    "bestfeatures = SelectKBest(score_func=chi2, k=10)\n",
    "fit = bestfeatures.fit(X,y)\n",
    "dfscores = pd.DataFrame(fit.scores_)\n",
    "dfcolumns = pd.DataFrame(X.columns)\n",
    "#concat two dataframes for better visualization \n",
    "featureScores = pd.concat([dfcolumns,dfscores],axis=1)\n",
    "featureScores.columns = ['Specs','Score']  #naming the dataframe columns\n",
    "print(featureScores.nlargest(28,'Score'))  #print 10 best features"
   ]
  },
  {
   "cell_type": "code",
   "execution_count": null,
   "id": "d8a208f0",
   "metadata": {},
   "outputs": [],
   "source": []
  }
 ],
 "metadata": {
  "kernelspec": {
   "display_name": "Python 3 (ipykernel)",
   "language": "python",
   "name": "python3"
  },
  "language_info": {
   "codemirror_mode": {
    "name": "ipython",
    "version": 3
   },
   "file_extension": ".py",
   "mimetype": "text/x-python",
   "name": "python",
   "nbconvert_exporter": "python",
   "pygments_lexer": "ipython3",
   "version": "3.9.12"
  }
 },
 "nbformat": 4,
 "nbformat_minor": 5
}
